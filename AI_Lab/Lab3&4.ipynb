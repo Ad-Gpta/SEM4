{
 "cells": [
  {
   "cell_type": "markdown",
   "metadata": {},
   "source": [
    "LAB 3:\n",
    "    DFS - Depth First Search\n",
    "utilizes stack"
   ]
  },
  {
   "cell_type": "code",
   "execution_count": 25,
   "metadata": {},
   "outputs": [
    {
     "name": "stdout",
     "output_type": "stream",
     "text": [
      "DFS: \n",
      "key popped:  A\n",
      "key popped:  C\n",
      "key popped:  G\n",
      "key popped:  K\n",
      "key popped:  F\n",
      "key popped:  J\n",
      "key popped:  B\n",
      "key popped:  E\n",
      "key popped:  D\n",
      "key popped:  H\n"
     ]
    }
   ],
   "source": [
    "print(\"DFS PROGRAM: \")\n",
    "stk = []\n",
    "visited={}\n",
    "gph= {\n",
    "'A' : ['B','C'],\n",
    "'B' : ['D','E'],\n",
    "'C' : ['F','G'],\n",
    "'D' : ['H'],\n",
    "'E' : ['E'],\n",
    "'F' : ['J'],\n",
    "'G' : ['K'],\n",
    "'H' : [],\n",
    "'I' : [],\n",
    "'J' : [],\n",
    "'K' : []\n",
    "}\n",
    "for key in gph.keys():\n",
    "    visited[key] = 0 #false\n",
    "    \n",
    "def stkpush(item):\n",
    "    if visited[item]== 0:\n",
    "        stk.append(item)\n",
    "\n",
    "def stkpop():\n",
    "    return(stk.pop())\n",
    "\n",
    "stkpush('A')\n",
    "\n",
    "while len(stk)!=0:\n",
    "    u = stkpop()\n",
    "    print(\"key popped: \",u)\n",
    "    visited[u] = 1  #true\n",
    "    for v in gph[u]:\n",
    "        stkpush(v)\n"
   ]
  },
  {
   "cell_type": "markdown",
   "metadata": {},
   "source": [
    "Q1)"
   ]
  },
  {
   "cell_type": "code",
   "execution_count": 86,
   "metadata": {},
   "outputs": [
    {
     "name": "stdout",
     "output_type": "stream",
     "text": [
      "['5']\n",
      "['5', '0']\n",
      "['5', '0']\n",
      "['5']\n",
      "key popped:  0\n",
      "['5']\n",
      "[]\n",
      "key popped:  5\n",
      "Cycle found goes back to  0\n",
      "['2']\n",
      "[]\n",
      "key popped:  2\n",
      "['3']\n",
      "[]\n",
      "key popped:  3\n",
      "['1']\n",
      "[]\n",
      "key popped:  1\n",
      "['4']\n",
      "['4']\n",
      "[]\n",
      "key popped:  4\n",
      "Cycle found goes back to  0\n",
      "Cycle found goes back to  1\n"
     ]
    }
   ],
   "source": [
    "gph = {\n",
    "'0' : [],\n",
    "'1' : [],\n",
    "'2' : ['3'],\n",
    "'3' : ['1'],\n",
    "'4' : ['0','1'],\n",
    "'5' : ['0','2']\n",
    "}\n",
    "def DFS(root):\n",
    "    stk = []\n",
    "    visited={}\n",
    "    for key in gph.keys():\n",
    "        visited[key] = 0 #false\n",
    "\n",
    "    def stkpush(item):\n",
    "        if visited[item]== 0:\n",
    "            stk.append(item)\n",
    "        else:\n",
    "            print(\"Cycle found goes back to \", item)\n",
    "\n",
    "\n",
    "    def stkpop():\n",
    "        return(stk.pop())\n",
    "\n",
    "    stkpush(root)\n",
    "    print(stk)\n",
    "    \n",
    "    def check():\n",
    "        print(stk)\n",
    "        while len(stk)!=0:\n",
    "            print(stk)\n",
    "            u = stkpop()\n",
    "            print(stk)\n",
    "            print(\"key popped: \",u)\n",
    "            visited[u] = 1  #true\n",
    "            if( len(gph[u]) != 0):\n",
    "                for v in gph[u]:\n",
    "                    stkpush(v)\n",
    "    for key in gph.keys():\n",
    "        if( visited[key] != 1):\n",
    "            stkpush(key)\n",
    "            check()\n",
    "        \n",
    "\n",
    "root = '5'\n",
    "DFS(root)"
   ]
  },
  {
   "cell_type": "markdown",
   "metadata": {},
   "source": [
    "Q2)"
   ]
  },
  {
   "cell_type": "code",
   "execution_count": 87,
   "metadata": {},
   "outputs": [
    {
     "name": "stdout",
     "output_type": "stream",
     "text": [
      "key popped:  2\n",
      "key popped:  3\n",
      "Cycle found; goes back to  3\n",
      "key popped:  0\n",
      "Cycle found; goes back to  2\n",
      "key popped:  1\n",
      "Cycle found; goes back to  2\n"
     ]
    }
   ],
   "source": [
    "gph = {\n",
    "'0' : ['1','2'],\n",
    "'1' : ['2'],\n",
    "'2' : ['0','3'],\n",
    "'3' : ['3'],\n",
    "}\n",
    "\n",
    "stk = []\n",
    "visited={}\n",
    "for key in gph.keys():\n",
    "    visited[key] = 0 #false\n",
    "    \n",
    "def stkpush(item):\n",
    "    if visited[item]== 0:\n",
    "        stk.append(item)\n",
    "    else:\n",
    "        print(\"Cycle found; goes back to \", item)\n",
    "\n",
    "def stkpop():\n",
    "    return(stk.pop())\n",
    "\n",
    "stkpush('2') #starting from 2\n",
    "\n",
    "for key in gph.keys():\n",
    "    visited[key] = 0 #false\n",
    "\n",
    "while len(stk)!=0:\n",
    "    u = stkpop()\n",
    "    print(\"key popped: \",u)\n",
    "    visited[u] = 1  #true\n",
    "    for v in gph[u]:\n",
    "        stkpush(v)\n"
   ]
  },
  {
   "cell_type": "markdown",
   "metadata": {},
   "source": [
    "Q3)"
   ]
  },
  {
   "cell_type": "code",
   "execution_count": 55,
   "metadata": {},
   "outputs": [
    {
     "name": "stdout",
     "output_type": "stream",
     "text": [
      "current path:  0\n",
      "paths available:  ['1', '2']\n",
      "current path:  2\n",
      "paths available:  ['0', '3', '4']\n",
      "current path:  4\n",
      "paths available:  ['3', '5']\n",
      "current path:  5\n",
      "paths available:  ['Dead end']\n",
      "5 is dead end;\n",
      "current path:  3\n",
      "paths available:  ['Exit']\n",
      "Exited maze;\n",
      "End of program\n"
     ]
    }
   ],
   "source": [
    "gph = { #path numbers\n",
    "'0' : ['1','2'],\n",
    "'1' : ['2'],\n",
    "'2' : ['0','3','4'],\n",
    "'3' : ['Exit'],\n",
    "'4' : ['3','5'],\n",
    "'5' : ['Dead end']\n",
    "}\n",
    "\n",
    "def DSF(root):\n",
    "    stk = []\n",
    "    visited={}\n",
    "    for key in gph.keys():\n",
    "        visited[key] = 0 #false\n",
    "\n",
    "    def stkpush(item):\n",
    "        if visited[item]== 0:\n",
    "            stk.append(item)\n",
    "\n",
    "    def stkpop():\n",
    "        return(stk.pop())\n",
    "\n",
    "    stkpush(root)\n",
    "\n",
    "    while len(stk)!=0:\n",
    "        u = stkpop()\n",
    "        print(\"current path: \",u)\n",
    "        print(\"paths available: \",gph[u])\n",
    "        if(gph[u] == ['Exit']):\n",
    "            print(\"Exited maze;\")\n",
    "            break\n",
    "        elif gph[u] == [\"Dead end\"]:\n",
    "            print(u,\"is dead end;\")\n",
    "            u = stkpop()\n",
    "        else:\n",
    "            visited[u] = 1  #true\n",
    "            if( len(gph[u]) != 0):\n",
    "                for v in gph[u]:\n",
    "                    stkpush(v)\n",
    "\n",
    "root = '0'\n",
    "DSF(root)\n",
    "print(\"End of program\")"
   ]
  },
  {
   "cell_type": "markdown",
   "metadata": {},
   "source": [
    "LAB 4: \n",
    "    BFS - BREADTH FIRST SEARCH\n",
    "utilizes queue"
   ]
  },
  {
   "cell_type": "code",
   "execution_count": 2,
   "metadata": {},
   "outputs": [
    {
     "name": "stdout",
     "output_type": "stream",
     "text": [
      "BFS PROGRAM: \n",
      "key popped:  A\n",
      "key popped:  B\n",
      "key popped:  C\n",
      "key popped:  D\n",
      "key popped:  E\n",
      "key popped:  F\n",
      "key popped:  G\n",
      "key popped:  H\n",
      "key popped:  J\n",
      "key popped:  K\n"
     ]
    }
   ],
   "source": [
    "print(\"BFS PROGRAM: \")\n",
    "Q = []\n",
    "visited={}\n",
    "gph= {\n",
    "'A' : ['B','C'],\n",
    "'B' : ['D','E'],\n",
    "'C' : ['F','G'],\n",
    "'D' : ['H'],\n",
    "'E' : ['E'],\n",
    "'F' : ['J'],\n",
    "'G' : ['K'],\n",
    "'H' : [],\n",
    "'I' : [],\n",
    "'J' : [],\n",
    "'K' : []\n",
    "}\n",
    "for key in gph.keys():\n",
    "    visited[key] = 0 #false\n",
    "    \n",
    "def enq(item):\n",
    "    if visited[item]== 0:\n",
    "        Q.append(item)\n",
    "\n",
    "def deq():\n",
    "    n = (Q[0])\n",
    "    Q.remove(Q[0])\n",
    "    return n\n",
    "\n",
    "enq('A')\n",
    "\n",
    "for key in gph.keys():\n",
    "    visited[key] = 0 #false\n",
    "while len(Q)!=0:\n",
    "        u = deq()\n",
    "        print(\"key popped: \",u)\n",
    "        visited[u] = 1  #true\n",
    "        for v in gph[u]:\n",
    "            enq(v)\n"
   ]
  },
  {
   "cell_type": "markdown",
   "metadata": {},
   "source": [
    "Q1)"
   ]
  },
  {
   "cell_type": "code",
   "execution_count": 14,
   "metadata": {},
   "outputs": [
    {
     "name": "stdout",
     "output_type": "stream",
     "text": [
      "key popped:  5\n",
      "key popped:  0\n",
      "key popped:  0\n",
      "key popped:  2\n",
      "key popped:  3\n",
      "key popped:  1\n",
      "key popped:  4\n",
      "Cycle found goes back to  0\n",
      "Cycle found goes back to  1\n"
     ]
    }
   ],
   "source": [
    "gph= {\n",
    "'0' : [],\n",
    "'1' : [],\n",
    "'2' : ['3'],\n",
    "'3' : ['1'],\n",
    "'4' : ['0','1'],\n",
    "'5' : ['0','2']\n",
    "}\n",
    "\n",
    "def BSF(root):\n",
    "    Q = []\n",
    "    visited={}\n",
    "    for key in gph.keys():\n",
    "        visited[key] = 0 #false\n",
    "\n",
    "    def enq(item):\n",
    "        if visited[item]== 0:\n",
    "            Q.append(item)\n",
    "        else:\n",
    "            print(\"Cycle found goes back to \", item)\n",
    "\n",
    "    def deq():\n",
    "        n = (Q[0])\n",
    "        Q.remove(Q[0])\n",
    "        return n\n",
    "\n",
    "    enq(root)\n",
    "    def check():\n",
    "        while len(Q)!=0:\n",
    "            u = deq()\n",
    "            print(\"key popped: \",u)\n",
    "            visited[u] = 1  #true\n",
    "            for v in gph[u]:\n",
    "                enq(v)\n",
    "    for key in gph.keys():\n",
    "           if( visited[key] != 1):\n",
    "                enq(key)\n",
    "                check()\n",
    "\n",
    "root = '5'\n",
    "BSF(root)"
   ]
  },
  {
   "cell_type": "markdown",
   "metadata": {},
   "source": [
    "Q2)"
   ]
  },
  {
   "cell_type": "code",
   "execution_count": 1,
   "metadata": {},
   "outputs": [
    {
     "name": "stdout",
     "output_type": "stream",
     "text": [
      "key popped:  2\n",
      "key popped:  0\n",
      "Cycle found goes back to  2\n",
      "key popped:  3\n",
      "Cycle found goes back to  3\n",
      "key popped:  1\n",
      "Cycle found goes back to  2\n"
     ]
    }
   ],
   "source": [
    "Q = []\n",
    "visited={}\n",
    "gph = {\n",
    "'0' : ['1','2'],\n",
    "'1' : ['2'],\n",
    "'2' : ['0','3'],\n",
    "'3' : ['3'],\n",
    "}\n",
    "for key in gph.keys():\n",
    "    visited[key] = 0 #false\n",
    "    \n",
    "def enq(item):\n",
    "    if visited[item]== 0:\n",
    "        Q.append(item)\n",
    "    else:\n",
    "            print(\"Cycle found goes back to \", item)\n",
    "\n",
    "def deq():\n",
    "    n = (Q[0])\n",
    "    Q.remove(Q[0])\n",
    "    return n\n",
    "\n",
    "enq('2')\n",
    "\n",
    "for key in gph.keys():\n",
    "    visited[key] = 0 #false\n",
    "\n",
    "while len(Q)!=0:\n",
    "    u = deq()\n",
    "    print(\"key popped: \",u)\n",
    "    visited[u] = 1  #true\n",
    "    for v in gph[u]:\n",
    "        enq(v)\n"
   ]
  },
  {
   "cell_type": "markdown",
   "metadata": {},
   "source": [
    "Q3) unnecesary"
   ]
  },
  {
   "cell_type": "code",
   "execution_count": 7,
   "metadata": {},
   "outputs": [
    {
     "name": "stdout",
     "output_type": "stream",
     "text": [
      "key popped:  A\n",
      "key popped:  B\n",
      "key popped:  C\n",
      "key popped:  D\n",
      "key popped:  C\n",
      "key popped:  D\n",
      "key popped:  D\n"
     ]
    }
   ],
   "source": [
    "Q = []\n",
    "visited={}\n",
    "gph = {\n",
    "'A': {'B': 2, 'C': 3, 'D': 1},\n",
    "'B': {'A': 2, 'C': 4, 'D': 2},\n",
    "'C': {'A': 3, 'B': 4, 'D': 3},\n",
    "'D': {'A': 1, 'B': 2, 'C': 3}\n",
    "}\n",
    "for key in gph.keys():\n",
    "    visited[key] = 0 #false\n",
    "    \n",
    "def enq(item):\n",
    "    if visited[item]== 0:\n",
    "        Q.append(item)\n",
    "\n",
    "def deq():\n",
    "    n = (Q[0])\n",
    "    Q.remove(Q[0])\n",
    "    return n\n",
    "\n",
    "enq('A')\n",
    "\n",
    "for key in gph.keys():\n",
    "    visited[key] = 0 #false\n",
    "\n",
    "while len(Q)!=0:\n",
    "    u = deq()\n",
    "    print(\"key popped: \",u)\n",
    "    visited[u] = 1  #true\n",
    "    for v in gph[u]:\n",
    "        enq(v)\n"
   ]
  },
  {
   "cell_type": "code",
   "execution_count": null,
   "metadata": {},
   "outputs": [],
   "source": []
  }
 ],
 "metadata": {
  "kernelspec": {
   "display_name": "Python 3",
   "language": "python",
   "name": "python3"
  },
  "language_info": {
   "codemirror_mode": {
    "name": "ipython",
    "version": 3
   },
   "file_extension": ".py",
   "mimetype": "text/x-python",
   "name": "python",
   "nbconvert_exporter": "python",
   "pygments_lexer": "ipython3",
   "version": "3.7.4"
  }
 },
 "nbformat": 4,
 "nbformat_minor": 5
}
