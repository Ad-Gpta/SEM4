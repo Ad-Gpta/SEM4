{
 "cells": [
  {
   "cell_type": "code",
   "execution_count": 1,
   "metadata": {},
   "outputs": [
    {
     "name": "stdout",
     "output_type": "stream",
     "text": [
      "Enter:\n",
      "1.Enqueue\n",
      "2.Dequeue\n",
      "3.Disp1\n",
      "4.Disp2\n",
      "5.Exit\n",
      "Choice: 1\n",
      "Enter new element: 12\n",
      "Choice: 1\n",
      "Enter new element: 23\n",
      "Choice: 1\n",
      "Enter new element: 34\n",
      "Choice: 1\n",
      "Enter new element: 45\n",
      "Choice: 2\n",
      "popped element:  12\n",
      "Choice: 3\n",
      "Stack1: \n",
      "23\n",
      "\n",
      "34\n",
      "\n",
      "45\n",
      "\n",
      "Choice: 5\n"
     ]
    }
   ],
   "source": [
    "# Q1) queue using 2 stack operations\n",
    "# method: making deQueue operation costly\n",
    "stk1 = []\n",
    "stk2 = []\n",
    "def enQ():\n",
    "    n = int(input(\"Enter new element: \"))\n",
    "    stk1.append(n)\n",
    "def deQ():\n",
    "    #stk2.clear()\n",
    "    for i in range(0,len(stk1)):\n",
    "        stk2.append(stk1.pop())\n",
    "    print(\"popped element: \",stk2.pop())\n",
    "    for i in range(0,len(stk2)):\n",
    "        stk1.append(stk2.pop())\n",
    "def disp1():\n",
    "    print(\"Stack1: \")\n",
    "    for i in stk1:\n",
    "        print(i)\n",
    "        print()\n",
    "def disp2():\n",
    "    print(\"Stack2: \")\n",
    "    for i in stk2:\n",
    "        print(i)\n",
    "        print()\n",
    "print(\"Enter:\\n1.Enqueue\\n2.Dequeue\\n3.Disp1\\n4.Disp2\\n5.Exit\")\n",
    "ch = 0\n",
    "while(ch!=5):\n",
    "    ch = int(input(\"Choice: \"))\n",
    "    if(ch==1):\n",
    "        enQ()\n",
    "    elif(ch==2):\n",
    "        deQ()\n",
    "    elif(ch==3):\n",
    "        disp1()\n",
    "    elif(ch==4):\n",
    "        disp2()"
   ]
  },
  {
   "cell_type": "code",
   "execution_count": 2,
   "metadata": {},
   "outputs": [
    {
     "name": "stdout",
     "output_type": "stream",
     "text": [
      "{'1': [[2, 1], [3, 1]], '2': [[3, 4]], '3': [[4, 4]], '4': [[1, 5]]}\n",
      "Adj_mat:\n",
      "[0, 1, 1, 0]\n",
      "[0, 0, 3, 0]\n",
      "[0, 0, 0, 4]\n",
      "[5, 0, 0, 0]\n"
     ]
    }
   ],
   "source": [
    "#Q2)Implement the following graph using python. \n",
    "#Print the adjacency list and adjacency matrix. \n",
    "Adj_list = {\"1\":[[2,1],[3,1]],\"2\":[[3,4]],\"3\":[[4,4]],\"4\":[[1,5]]}\n",
    "Adj_mat = [[0,1,1,0],[0,0,3,0],[0,0,0,4],[5,0,0,0]]\n",
    "print(Adj_list)\n",
    "print(\"Adj_mat:\")\n",
    "for i in Adj_mat:\n",
    "    print(i)"
   ]
  },
  {
   "cell_type": "code",
   "execution_count": 3,
   "metadata": {},
   "outputs": [
    {
     "name": "stdout",
     "output_type": "stream",
     "text": [
      "[3.1622776601683795, 8.602325267042627, 6.4031242374328485]\n",
      "[8.602325267042627, 6.4031242374328485, 3.1622776601683795]\n"
     ]
    }
   ],
   "source": [
    "# Q3)Create two list X and Y with some set of numerical values. Compute Euclidean distance for corresponding values in X \n",
    "#and Y. Store the distance values in a separate list and sort them using Bubble sort algorithm.\n",
    "\n",
    "import math\n",
    "X = [[6,7],[8,9],[10,11]]\n",
    "Y = [[5,4],[3,2],[5,7]]\n",
    "dist= []\n",
    "for k in range(0,len(X)):\n",
    "    sum = 0\n",
    "    i = X[k]\n",
    "    j = Y[k]\n",
    "    for l in range(len(i)):\n",
    "        sum += (i[l]-j[l])**2\n",
    "    dist.append(math.sqrt(sum))\n",
    "print(dist)\n",
    "for j in range(len(dist)):\n",
    "    for i in range(len(dist)-j-1):\n",
    "        if(dist[i]<dist[i+1]):\n",
    "            t = dist[i]\n",
    "            dist[i] = dist[i+1]\n",
    "            dist[i+1] = t\n",
    "print(dist)"
   ]
  },
  {
   "cell_type": "code",
   "execution_count": null,
   "metadata": {},
   "outputs": [],
   "source": []
  }
 ],
 "metadata": {
  "kernelspec": {
   "display_name": "Python 3",
   "language": "python",
   "name": "python3"
  },
  "language_info": {
   "codemirror_mode": {
    "name": "ipython",
    "version": 3
   },
   "file_extension": ".py",
   "mimetype": "text/x-python",
   "name": "python",
   "nbconvert_exporter": "python",
   "pygments_lexer": "ipython3",
   "version": "3.7.4"
  }
 },
 "nbformat": 4,
 "nbformat_minor": 2
}
